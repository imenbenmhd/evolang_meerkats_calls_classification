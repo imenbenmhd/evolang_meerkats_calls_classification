{
 "cells": [
  {
   "cell_type": "markdown",
   "metadata": {},
   "source": [
    "# <center> svm-gpu sample code </center>"
   ]
  },
  {
   "cell_type": "markdown",
   "metadata": {},
   "source": [
    "# Code evaluating performance of svm-gpu vs sklearn"
   ]
  },
  {
   "cell_type": "code",
   "execution_count": 5,
   "metadata": {},
   "outputs": [],
   "source": [
    "import warnings\n",
    "warnings.filterwarnings('ignore')\n",
    "from sklearn.model_selection import GridSearchCV\n",
    "from sklearn.svm import SVC\n",
    "from sklearn import preprocessing\n",
    "\n",
    "def timeit(f):\n",
    "\n",
    "    def timed(*args, **kw):\n",
    "\n",
    "        ts = time.time()\n",
    "        result = f(*args, **kw)\n",
    "        te = time.time()\n",
    "        \n",
    "        print('func:%r args:%r took: %2.4f sec' % (f.__name__, kw, te-ts))\n",
    "        return result\n",
    "\n",
    "    return timed\n",
    "\n",
    "@timeit\n",
    "def train_and_compute_misclassification(kernel, kernel_params, classification_strategy, x_train, y_train, x_test, y_test, lambduh=1, use_optimal_lambda=False, n_folds=3, max_iter=200):   \n",
    "    print('svm-gpu, {} kernel, parameters {}'.format(kernel, kernel_params))\n",
    "    svm = SVM(kernel, kernel_params, lambduh, max_iter, classification_strategy, x=x_train, y=y_train, n_folds=n_folds, display_plots=True)\n",
    "\n",
    "    svm.fit(x_train, y_train, use_optimal_lambda=use_optimal_lambda)\n",
    "    if svm._classification_strategy == 'binary':\n",
    "        svm.plot_misclassification_error()\n",
    "\n",
    "    misclassification_error = svm.compute_misclassification_error(x_test, y_test)\n",
    "    print('Misclassification error (test), {}, {}lambda = {} : {}\\n'.format(svm._classification_strategy, ('optimal ' if use_optimal_lambda else ''), svm._lambduh, misclassification_error))\n",
    "\n",
    "@timeit\n",
    "def train_and_compute_misclassification_sklearn(kernel, x_train, y_train, x_test, y_test, lambduh=1, use_optimal_lambda=False, n_folds=3, max_iter=200, decision_function_shape='ovr'):\n",
    "    x_train = xp.asnumpy(x_train)\n",
    "    y_train = xp.asnumpy(y_train)\n",
    "    x_test = xp.asnumpy(x_test)\n",
    "    y_test = xp.asnumpy(y_test)\n",
    "    \n",
    "    scaler = preprocessing.StandardScaler().fit(x_train)\n",
    "    x_train = scaler.transform(x_train)\n",
    "    x_test = scaler.transform(x_test)\n",
    "\n",
    "    print('sklearn, {} kernal'.format(kernel))    \n",
    "    svm = SVC(kernel=kernel, C=lambduh, decision_function_shape=decision_function_shape, max_iter=max_iter)\n",
    "    \n",
    "    if (use_optimal_lambda is True):\n",
    "        params = {'C':[10**i for i in range(-3, 4)] }\n",
    "        svm = GridSearchCV(svm, params, cv=n_folds)\n",
    "        \n",
    "    svm.fit(x_train, y_train)\n",
    "    \n",
    "    if (use_optimal_lambda is True):\n",
    "        lambduh = svm.best_params_['C']\n",
    "    \n",
    "    misclassification_error = 1 - svm.score(x_test, y_test)\n",
    "    print(\"Misclassification error (test), {}, {}lambda = {} : {}\\n\".format(decision_function_shape, ('optimal ' if use_optimal_lambda else ''), lambduh, misclassification_error))"
   ]
  },
  {
   "cell_type": "markdown",
   "metadata": {},
   "source": [
    "# Prepare simulated dataset"
   ]
  },
  {
   "cell_type": "code",
   "execution_count": 2,
   "metadata": {},
   "outputs": [],
   "source": [
    "import cupy as xp \n",
    "import sklearn.model_selection\n",
    "import time\n",
    "from svm import SVM\n",
    "import kernels\n",
    "\n",
    "xp.random.seed(0)\n",
    "x_simulated = xp.concatenate((xp.random.normal(-10,10,(100,60)),\n",
    "                              xp.random.normal(0,10,(100,60)),\n",
    "                              xp.random.normal(10,10,(100,60)),\n",
    "                              xp.random.uniform(-1,1,(100,60))),axis=0)\n",
    "\n",
    "y_simulated = xp.concatenate((xp.tile(0, 100),\n",
    "                              xp.tile(1, 100),\n",
    "                              xp.tile(2, 100),\n",
    "                              xp.tile(3, 100)),axis=0)\n",
    "\n",
    "# Divide the data into train, test sets \n",
    "x_train_simulated, x_test_simulated, y_train_simulated, y_test_simulated = sklearn.model_selection.train_test_split(x_simulated, y_simulated)\n"
   ]
  },
  {
   "cell_type": "markdown",
   "metadata": {},
   "source": [
    "# Binary performance with simulated dataset, linear kernel, optimal lambda"
   ]
  },
  {
   "cell_type": "code",
   "execution_count": 3,
   "metadata": {
    "collapsed": true
   },
   "outputs": [],
   "source": [
    "# Get a binary subset of the data\n",
    "x_train_binary_simulated, y_train_binary_simulated = SVM.filter_data_by_class_ovo(x_train_simulated, y_train_simulated, [0,1], True)\n",
    "x_test_binary_simulated, y_test_binary_simulated = SVM.filter_data_by_class_ovo(x_test_simulated, y_test_simulated, [0,1], True)"
   ]
  },
  {
   "cell_type": "code",
   "execution_count": 4,
   "metadata": {},
   "outputs": [
    {
     "name": "stdout",
     "output_type": "stream",
     "text": [
      "svm-gpu, linear kernel, parameters {}\n"
     ]
    },
    {
     "data": {
      "text/html": [
       "<div>\n",
       "<style scoped>\n",
       "    .dataframe tbody tr th:only-of-type {\n",
       "        vertical-align: middle;\n",
       "    }\n",
       "\n",
       "    .dataframe tbody tr th {\n",
       "        vertical-align: top;\n",
       "    }\n",
       "\n",
       "    .dataframe thead th {\n",
       "        text-align: right;\n",
       "    }\n",
       "</style>\n",
       "<table border=\"1\" class=\"dataframe\">\n",
       "  <thead>\n",
       "    <tr style=\"text-align: right;\">\n",
       "      <th></th>\n",
       "      <th>lambda</th>\n",
       "      <th>Cross validation error</th>\n",
       "    </tr>\n",
       "  </thead>\n",
       "  <tbody>\n",
       "    <tr>\n",
       "      <th>0</th>\n",
       "      <td>0.001</td>\n",
       "      <td>0.0</td>\n",
       "    </tr>\n",
       "    <tr>\n",
       "      <th>1</th>\n",
       "      <td>0.010</td>\n",
       "      <td>0.0</td>\n",
       "    </tr>\n",
       "    <tr>\n",
       "      <th>2</th>\n",
       "      <td>0.100</td>\n",
       "      <td>0.0</td>\n",
       "    </tr>\n",
       "    <tr>\n",
       "      <th>3</th>\n",
       "      <td>1.000</td>\n",
       "      <td>0.0</td>\n",
       "    </tr>\n",
       "    <tr>\n",
       "      <th>4</th>\n",
       "      <td>10.000</td>\n",
       "      <td>0.0</td>\n",
       "    </tr>\n",
       "    <tr>\n",
       "      <th>5</th>\n",
       "      <td>100.000</td>\n",
       "      <td>0.0</td>\n",
       "    </tr>\n",
       "    <tr>\n",
       "      <th>6</th>\n",
       "      <td>1000.000</td>\n",
       "      <td>0.0</td>\n",
       "    </tr>\n",
       "  </tbody>\n",
       "</table>\n",
       "</div>"
      ],
      "text/plain": [
       "     lambda  Cross validation error\n",
       "0     0.001                     0.0\n",
       "1     0.010                     0.0\n",
       "2     0.100                     0.0\n",
       "3     1.000                     0.0\n",
       "4    10.000                     0.0\n",
       "5   100.000                     0.0\n",
       "6  1000.000                     0.0"
      ]
     },
     "metadata": {},
     "output_type": "display_data"
    },
    {
     "data": {
      "image/png": "[encoded data removed]",
      "text/plain": [
       "<matplotlib.figure.Figure at 0x2a509e06748>"
      ]
     },
     "metadata": {},
     "output_type": "display_data"
    },
    {
     "name": "stdout",
     "output_type": "stream",
     "text": [
      "Misclassification error (train), binary, optimal lambda = 0.001 : 0.0\n"
     ]
    },
    {
     "data": {
      "image/png": "[encoded data removed]",
      "text/plain": [
       "<matplotlib.figure.Figure at 0x2a511d09518>"
      ]
     },
     "metadata": {},
     "output_type": "display_data"
    },
    {
     "name": "stdout",
     "output_type": "stream",
     "text": [
      "Misclassification error (test), binary, optimal lambda = 0.001 : 0.0\n",
      "\n",
      "func:'train_and_compute_misclassification' args:{'use_optimal_lambda': True} took: 42.4410 sec\n"
     ]
    }
   ],
   "source": [
    "train_and_compute_misclassification('linear', {}, 'binary', x_train_binary_simulated, y_train_binary_simulated, x_test_binary_simulated, y_test_binary_simulated, use_optimal_lambda=True)\n"
   ]
  },
  {
   "cell_type": "code",
   "execution_count": 46,
   "metadata": {},
   "outputs": [
    {
     "name": "stdout",
     "output_type": "stream",
     "text": [
      "sklearn, linear kernal\n",
      "Misclassification error (test), ovr, optimal lambda = 0.001 : 0.0\n",
      "\n",
      "func:'train_and_compute_misclassification_sklearn' args:{'use_optimal_lambda': True} took: 0.9327 sec\n"
     ]
    }
   ],
   "source": [
    "train_and_compute_misclassification_sklearn('linear', x_train_binary_simulated, y_train_binary_simulated, x_test_binary_simulated, y_test_binary_simulated, use_optimal_lambda=True)\n"
   ]
  },
  {
   "cell_type": "markdown",
   "metadata": {},
   "source": [
    "# Multi-class performance with simulated dataset, rbf kernel, optimal lambda\n"
   ]
  },
  {
   "cell_type": "code",
   "execution_count": 14,
   "metadata": {},
   "outputs": [
    {
     "name": "stdout",
     "output_type": "stream",
     "text": [
      "svm-gpu, rbf kernel, parameters {'sigma': 7}\n"
     ]
    },
    {
     "data": {
      "text/html": [
       "<div>\n",
       "<style scoped>\n",
       "    .dataframe tbody tr th:only-of-type {\n",
       "        vertical-align: middle;\n",
       "    }\n",
       "\n",
       "    .dataframe tbody tr th {\n",
       "        vertical-align: top;\n",
       "    }\n",
       "\n",
       "    .dataframe thead th {\n",
       "        text-align: right;\n",
       "    }\n",
       "</style>\n",
       "<table border=\"1\" class=\"dataframe\">\n",
       "  <thead>\n",
       "    <tr style=\"text-align: right;\">\n",
       "      <th></th>\n",
       "      <th>lambda</th>\n",
       "      <th>Cross validation error</th>\n",
       "    </tr>\n",
       "  </thead>\n",
       "  <tbody>\n",
       "    <tr>\n",
       "      <th>0</th>\n",
       "      <td>0.001</td>\n",
       "      <td>0.280963</td>\n",
       "    </tr>\n",
       "    <tr>\n",
       "      <th>1</th>\n",
       "      <td>0.010</td>\n",
       "      <td>0.329405</td>\n",
       "    </tr>\n",
       "    <tr>\n",
       "      <th>2</th>\n",
       "      <td>0.100</td>\n",
       "      <td>0.399698</td>\n",
       "    </tr>\n",
       "    <tr>\n",
       "      <th>3</th>\n",
       "      <td>1.000</td>\n",
       "      <td>0.446524</td>\n",
       "    </tr>\n",
       "    <tr>\n",
       "      <th>4</th>\n",
       "      <td>10.000</td>\n",
       "      <td>0.464916</td>\n",
       "    </tr>\n",
       "    <tr>\n",
       "      <th>5</th>\n",
       "      <td>100.000</td>\n",
       "      <td>0.459858</td>\n",
       "    </tr>\n",
       "    <tr>\n",
       "      <th>6</th>\n",
       "      <td>1000.000</td>\n",
       "      <td>0.453216</td>\n",
       "    </tr>\n",
       "  </tbody>\n",
       "</table>\n",
       "</div>"
      ],
      "text/plain": [
       "     lambda  Cross validation error\n",
       "0     0.001                0.280963\n",
       "1     0.010                0.329405\n",
       "2     0.100                0.399698\n",
       "3     1.000                0.446524\n",
       "4    10.000                0.464916\n",
       "5   100.000                0.459858\n",
       "6  1000.000                0.453216"
      ]
     },
     "metadata": {},
     "output_type": "display_data"
    },
    {
     "data": {
      "image/png": "[encoded data removed]",
      "text/plain": [
       "<matplotlib.figure.Figure at 0x2a51cc7c6d8>"
      ]
     },
     "metadata": {},
     "output_type": "display_data"
    },
    {
     "name": "stdout",
     "output_type": "stream",
     "text": [
      "Misclassification error (train), ovr, optimal lambda = 0.001 : 0.28096314907872694\n"
     ]
    },
    {
     "data": {
      "image/png": "[encoded data removed]",
      "text/plain": [
       "<matplotlib.figure.Figure at 0x2a5208e8d30>"
      ]
     },
     "metadata": {},
     "output_type": "display_data"
    },
    {
     "name": "stdout",
     "output_type": "stream",
     "text": [
      "Misclassification error (test), ovr, optimal lambda = 0.001 : 0.19\n",
      "\n",
      "func:'train_and_compute_misclassification' args:{'use_optimal_lambda': True} took: 88.3852 sec\n"
     ]
    }
   ],
   "source": [
    "train_and_compute_misclassification('rbf', {'sigma': 7}, 'ovr', x_train_simulated, y_train_simulated, x_test_simulated, y_test_simulated, use_optimal_lambda=True)"
   ]
  },
  {
   "cell_type": "code",
   "execution_count": 10,
   "metadata": {},
   "outputs": [
    {
     "name": "stdout",
     "output_type": "stream",
     "text": [
      "sklearn, rbf kernal\n",
      "Misclassification error (test), ovr, optimal lambda = 0.1 : 0.0\n",
      "\n",
      "func:'train_and_compute_misclassification_sklearn' args:{'use_optimal_lambda': True} took: 0.4853 sec\n"
     ]
    }
   ],
   "source": [
    "train_and_compute_misclassification_sklearn('rbf', x_train_simulated, y_train_simulated, x_test_simulated, y_test_simulated, use_optimal_lambda=True)"
   ]
  },
  {
   "cell_type": "markdown",
   "metadata": {},
   "source": [
    "# Prepare read world dataset (sklearn digits)"
   ]
  },
  {
   "cell_type": "code",
   "execution_count": 15,
   "metadata": {
    "collapsed": true
   },
   "outputs": [],
   "source": [
    "from sklearn.datasets import load_digits\n",
    "\n",
    "digits = load_digits()\n",
    "\n",
    "# Divide the data into train, test sets \n",
    "x_train, x_test, y_train, y_test = sklearn.model_selection.train_test_split(digits.data, digits.target)\n",
    "\n",
    "# Move data to GPU\n",
    "x_train = xp.asarray(x_train)\n",
    "x_test =  xp.asarray(x_test)\n",
    "y_train = xp.asarray(y_train)\n",
    "y_test = xp.asarray(y_test)"
   ]
  },
  {
   "cell_type": "markdown",
   "metadata": {},
   "source": [
    "# Binary performance with real world dataset, linear kernel, optimal lambda"
   ]
  },
  {
   "cell_type": "code",
   "execution_count": 59,
   "metadata": {},
   "outputs": [],
   "source": [
    "# Get a binary subset of the data\n",
    "x_train_binary, y_train_binary = SVM.filter_data_by_class_ovo(x_train, y_train, [0,1], True)\n",
    "x_test_binary, y_test_binary = SVM.filter_data_by_class_ovo(x_test, y_test, [0,1], True)"
   ]
  },
  {
   "cell_type": "code",
   "execution_count": 70,
   "metadata": {},
   "outputs": [
    {
     "name": "stdout",
     "output_type": "stream",
     "text": [
      "svm-gpu, linear kernel, parameters {}\n"
     ]
    },
    {
     "data": {
      "text/html": [
       "<div>\n",
       "<style scoped>\n",
       "    .dataframe tbody tr th:only-of-type {\n",
       "        vertical-align: middle;\n",
       "    }\n",
       "\n",
       "    .dataframe tbody tr th {\n",
       "        vertical-align: top;\n",
       "    }\n",
       "\n",
       "    .dataframe thead th {\n",
       "        text-align: right;\n",
       "    }\n",
       "</style>\n",
       "<table border=\"1\" class=\"dataframe\">\n",
       "  <thead>\n",
       "    <tr style=\"text-align: right;\">\n",
       "      <th></th>\n",
       "      <th>lambda</th>\n",
       "      <th>Cross validation error</th>\n",
       "    </tr>\n",
       "  </thead>\n",
       "  <tbody>\n",
       "    <tr>\n",
       "      <th>0</th>\n",
       "      <td>0.001</td>\n",
       "      <td>0.0</td>\n",
       "    </tr>\n",
       "    <tr>\n",
       "      <th>1</th>\n",
       "      <td>0.010</td>\n",
       "      <td>0.0</td>\n",
       "    </tr>\n",
       "    <tr>\n",
       "      <th>2</th>\n",
       "      <td>0.100</td>\n",
       "      <td>0.0</td>\n",
       "    </tr>\n",
       "    <tr>\n",
       "      <th>3</th>\n",
       "      <td>1.000</td>\n",
       "      <td>0.0</td>\n",
       "    </tr>\n",
       "    <tr>\n",
       "      <th>4</th>\n",
       "      <td>10.000</td>\n",
       "      <td>0.0</td>\n",
       "    </tr>\n",
       "    <tr>\n",
       "      <th>5</th>\n",
       "      <td>100.000</td>\n",
       "      <td>0.0</td>\n",
       "    </tr>\n",
       "    <tr>\n",
       "      <th>6</th>\n",
       "      <td>1000.000</td>\n",
       "      <td>0.0</td>\n",
       "    </tr>\n",
       "  </tbody>\n",
       "</table>\n",
       "</div>"
      ],
      "text/plain": [
       "     lambda  Cross validation error\n",
       "0     0.001                     0.0\n",
       "1     0.010                     0.0\n",
       "2     0.100                     0.0\n",
       "3     1.000                     0.0\n",
       "4    10.000                     0.0\n",
       "5   100.000                     0.0\n",
       "6  1000.000                     0.0"
      ]
     },
     "metadata": {},
     "output_type": "display_data"
    },
    {
     "data": {
      "image/png": "[encoded data removed]",
      "text/plain": [
       "<matplotlib.figure.Figure at 0x1becfef19b0>"
      ]
     },
     "metadata": {},
     "output_type": "display_data"
    },
    {
     "name": "stdout",
     "output_type": "stream",
     "text": [
      "Misclassification error (train), binary, optimal lambda = 0.001 : 0.0\n"
     ]
    },
    {
     "data": {
      "image/png": "[encoded data removed]",
      "text/plain": [
       "<matplotlib.figure.Figure at 0x1becfae7898>"
      ]
     },
     "metadata": {},
     "output_type": "display_data"
    },
    {
     "name": "stdout",
     "output_type": "stream",
     "text": [
      "Misclassification error (test), binary, optimal lambda = 0.001 : 0.0\n",
      "\n",
      "func:'train_and_compute_misclassification' args:{'use_optimal_lambda': True} took: 15.8370 sec\n"
     ]
    }
   ],
   "source": [
    "train_and_compute_misclassification('linear', {}, 'binary', x_train_binary_simulated, y_train_binary_simulated, x_test_binary_simulated, y_test_binary_simulated, use_optimal_lambda=True)\n"
   ]
  },
  {
   "cell_type": "code",
   "execution_count": 71,
   "metadata": {},
   "outputs": [
    {
     "name": "stdout",
     "output_type": "stream",
     "text": [
      "sklearn, linear kernal\n",
      "Misclassification error (test), ovr, optimal lambda = 0.001 : 0.0\n",
      "\n",
      "func:'train_and_compute_misclassification_sklearn' args:{'use_optimal_lambda': True} took: 0.1360 sec\n"
     ]
    }
   ],
   "source": [
    "train_and_compute_misclassification_sklearn('linear', x_train_binary_simulated, y_train_binary_simulated, x_test_binary_simulated, y_test_binary_simulated, use_optimal_lambda=True)"
   ]
  },
  {
   "cell_type": "markdown",
   "metadata": {},
   "source": [
    "# Multi-class performance with real world dataset, rbf kernel, optimal lambda"
   ]
  },
  {
   "cell_type": "code",
   "execution_count": 4,
   "metadata": {},
   "outputs": [
    {
     "name": "stdout",
     "output_type": "stream",
     "text": [
      "svm-gpu, rbf kernel, parameters {'sigma': 15}\n"
     ]
    },
    {
     "data": {
      "text/html": [
       "<div>\n",
       "<style scoped>\n",
       "    .dataframe tbody tr th:only-of-type {\n",
       "        vertical-align: middle;\n",
       "    }\n",
       "\n",
       "    .dataframe tbody tr th {\n",
       "        vertical-align: top;\n",
       "    }\n",
       "\n",
       "    .dataframe thead th {\n",
       "        text-align: right;\n",
       "    }\n",
       "</style>\n",
       "<table border=\"1\" class=\"dataframe\">\n",
       "  <thead>\n",
       "    <tr style=\"text-align: right;\">\n",
       "      <th></th>\n",
       "      <th>lambda</th>\n",
       "      <th>Cross validation error</th>\n",
       "    </tr>\n",
       "  </thead>\n",
       "  <tbody>\n",
       "    <tr>\n",
       "      <th>0</th>\n",
       "      <td>0.001</td>\n",
       "      <td>0.266707</td>\n",
       "    </tr>\n",
       "    <tr>\n",
       "      <th>1</th>\n",
       "      <td>0.010</td>\n",
       "      <td>0.282318</td>\n",
       "    </tr>\n",
       "    <tr>\n",
       "      <th>2</th>\n",
       "      <td>0.100</td>\n",
       "      <td>0.226965</td>\n",
       "    </tr>\n",
       "    <tr>\n",
       "      <th>3</th>\n",
       "      <td>1.000</td>\n",
       "      <td>0.220651</td>\n",
       "    </tr>\n",
       "    <tr>\n",
       "      <th>4</th>\n",
       "      <td>10.000</td>\n",
       "      <td>0.225124</td>\n",
       "    </tr>\n",
       "    <tr>\n",
       "      <th>5</th>\n",
       "      <td>100.000</td>\n",
       "      <td>0.229580</td>\n",
       "    </tr>\n",
       "    <tr>\n",
       "      <th>6</th>\n",
       "      <td>1000.000</td>\n",
       "      <td>0.267488</td>\n",
       "    </tr>\n",
       "  </tbody>\n",
       "</table>\n",
       "</div>"
      ],
      "text/plain": [
       "     lambda  Cross validation error\n",
       "0     0.001                0.266707\n",
       "1     0.010                0.282318\n",
       "2     0.100                0.226965\n",
       "3     1.000                0.220651\n",
       "4    10.000                0.225124\n",
       "5   100.000                0.229580\n",
       "6  1000.000                0.267488"
      ]
     },
     "metadata": {},
     "output_type": "display_data"
    },
    {
     "data": {
      "image/png": "[encoded data removed]",
      "text/plain": [
       "<matplotlib.figure.Figure at 0x2518005f828>"
      ]
     },
     "metadata": {},
     "output_type": "display_data"
    },
    {
     "name": "stdout",
     "output_type": "stream",
     "text": [
      "Misclassification error (train), ovr, optimal lambda = 1 : 0.22065136696685064\n"
     ]
    },
    {
     "data": {
      "image/png": "[encoded data removed]",
      "text/plain": [
       "<matplotlib.figure.Figure at 0x251800f8e80>"
      ]
     },
     "metadata": {},
     "output_type": "display_data"
    },
    {
     "name": "stdout",
     "output_type": "stream",
     "text": [
      "Misclassification error (test), ovr, optimal lambda = 1 : 0.17777777777777778\n",
      "\n",
      "func:'train_and_compute_misclassification' args:{'use_optimal_lambda': True} took: 1089.8553 sec\n"
     ]
    }
   ],
   "source": [
    "train_and_compute_misclassification('rbf', {'sigma': 15}, 'ovr', x_train, y_train, x_test, y_test, use_optimal_lambda=True)"
   ]
  },
  {
   "cell_type": "code",
   "execution_count": 9,
   "metadata": {},
   "outputs": [
    {
     "name": "stdout",
     "output_type": "stream",
     "text": [
      "sklearn, rbf kernal\n",
      "Misclassification error (test), ovr, optimal lambda = 10 : 0.015555555555555545\n",
      "\n",
      "func:'train_and_compute_misclassification_sklearn' args:{'use_optimal_lambda': True} took: 4.4520 sec\n"
     ]
    }
   ],
   "source": [
    "train_and_compute_misclassification_sklearn('rbf', x_train, y_train, x_test, y_test, use_optimal_lambda=True)"
   ]
  },
  {
   "cell_type": "code",
   "execution_count": 18,
   "metadata": {},
   "outputs": [
    {
     "name": "stdout",
     "output_type": "stream",
     "text": [
      "sklearn, linear kernal\n",
      "Misclassification error (test), ovr, optimal lambda = 0.1 : 0.01777777777777778\n",
      "\n",
      "func:'train_and_compute_misclassification_sklearn' args:{'use_optimal_lambda': True} took: 2.6927 sec\n"
     ]
    }
   ],
   "source": [
    "train_and_compute_misclassification_sklearn('linear', x_train, y_train, x_test, y_test, use_optimal_lambda=True)"
   ]
  },
  {
   "cell_type": "code",
   "execution_count": 19,
   "metadata": {},
   "outputs": [
    {
     "name": "stdout",
     "output_type": "stream",
     "text": [
      "svm-gpu, linear kernel, parameters {}\n"
     ]
    },
    {
     "data": {
      "text/html": [
       "<div>\n",
       "<style scoped>\n",
       "    .dataframe tbody tr th:only-of-type {\n",
       "        vertical-align: middle;\n",
       "    }\n",
       "\n",
       "    .dataframe tbody tr th {\n",
       "        vertical-align: top;\n",
       "    }\n",
       "\n",
       "    .dataframe thead th {\n",
       "        text-align: right;\n",
       "    }\n",
       "</style>\n",
       "<table border=\"1\" class=\"dataframe\">\n",
       "  <thead>\n",
       "    <tr style=\"text-align: right;\">\n",
       "      <th></th>\n",
       "      <th>lambda</th>\n",
       "      <th>Cross validation error</th>\n",
       "    </tr>\n",
       "  </thead>\n",
       "  <tbody>\n",
       "    <tr>\n",
       "      <th>0</th>\n",
       "      <td>0.001</td>\n",
       "      <td>0.306488</td>\n",
       "    </tr>\n",
       "    <tr>\n",
       "      <th>1</th>\n",
       "      <td>0.010</td>\n",
       "      <td>0.229196</td>\n",
       "    </tr>\n",
       "    <tr>\n",
       "      <th>2</th>\n",
       "      <td>0.100</td>\n",
       "      <td>0.217332</td>\n",
       "    </tr>\n",
       "    <tr>\n",
       "      <th>3</th>\n",
       "      <td>1.000</td>\n",
       "      <td>0.159352</td>\n",
       "    </tr>\n",
       "    <tr>\n",
       "      <th>4</th>\n",
       "      <td>10.000</td>\n",
       "      <td>0.124446</td>\n",
       "    </tr>\n",
       "    <tr>\n",
       "      <th>5</th>\n",
       "      <td>100.000</td>\n",
       "      <td>0.145989</td>\n",
       "    </tr>\n",
       "    <tr>\n",
       "      <th>6</th>\n",
       "      <td>1000.000</td>\n",
       "      <td>0.151194</td>\n",
       "    </tr>\n",
       "  </tbody>\n",
       "</table>\n",
       "</div>"
      ],
      "text/plain": [
       "     lambda  Cross validation error\n",
       "0     0.001                0.306488\n",
       "1     0.010                0.229196\n",
       "2     0.100                0.217332\n",
       "3     1.000                0.159352\n",
       "4    10.000                0.124446\n",
       "5   100.000                0.145989\n",
       "6  1000.000                0.151194"
      ]
     },
     "metadata": {},
     "output_type": "display_data"
    },
    {
     "data": {
      "image/png": "[encoded data removed]",
      "text/plain": [
       "<matplotlib.figure.Figure at 0x2a511d0f8d0>"
      ]
     },
     "metadata": {},
     "output_type": "display_data"
    },
    {
     "name": "stdout",
     "output_type": "stream",
     "text": [
      "Misclassification error (train), ovr, optimal lambda = 10 : 0.12444558658367122\n"
     ]
    },
    {
     "data": {
      "image/png": "[encoded data removed]",
      "text/plain": [
       "<matplotlib.figure.Figure at 0x2a511149a90>"
      ]
     },
     "metadata": {},
     "output_type": "display_data"
    },
    {
     "name": "stdout",
     "output_type": "stream",
     "text": [
      "Misclassification error (test), ovr, optimal lambda = 10 : 0.1688888888888889\n",
      "\n",
      "func:'train_and_compute_misclassification' args:{'use_optimal_lambda': True} took: 230.1408 sec\n"
     ]
    }
   ],
   "source": [
    "train_and_compute_misclassification('linear', {}, 'ovr', x_train, y_train, x_test, y_test, use_optimal_lambda=True)"
   ]
  },
  {
   "cell_type": "code",
   "execution_count": null,
   "metadata": {
    "collapsed": true
   },
   "outputs": [],
   "source": []
  }
 ],
 "metadata": {
  "kernelspec": {
   "display_name": "Python 3",
   "language": "python",
   "name": "python3"
  },
  "language_info": {
   "codemirror_mode": {
    "name": "ipython",
    "version": 3
   },
   "file_extension": ".py",
   "mimetype": "text/x-python",
   "name": "python",
   "nbconvert_exporter": "python",
   "pygments_lexer": "ipython3",
   "version": "3.6.2"
  }
 },
 "nbformat": 4,
 "nbformat_minor": 2
}
