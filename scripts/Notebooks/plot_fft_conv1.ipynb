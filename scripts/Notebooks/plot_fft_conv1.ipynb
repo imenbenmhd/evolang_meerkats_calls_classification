{
 "cells": [
  {
   "cell_type": "code",
   "execution_count": 14,
   "metadata": {},
   "outputs": [],
   "source": [
    "import torch\n",
    "import numpy as np\n",
    "import os\n",
    "import sys\n",
    "sys.path.append(\"../../\")\n",
    "from meerkats import config\n",
    "from meerkats.src.models.Palazcnn import PalazCNN\n",
    "from meerkats.src.models.lit import Lit\n",
    "import matplotlib.pylab as plt"
   ]
  },
  {
   "attachments": {},
   "cell_type": "markdown",
   "metadata": {},
   "source": [
    "Load the checkpoint"
   ]
  },
  {
   "cell_type": "code",
   "execution_count": 15,
   "metadata": {},
   "outputs": [
    {
     "ename": "NameError",
     "evalue": "name 'path_' is not defined",
     "output_type": "error",
     "traceback": [
      "\u001b[0;31m---------------------------------------------------------------------------\u001b[0m",
      "\u001b[0;31mNameError\u001b[0m                                 Traceback (most recent call last)",
      "\u001b[1;32m/idiap/project/evolang/meerkats_imen/evolang_meerkats_calls_classification/scripts/Notebooks/plot_fft_conv1.ipynb Cell 3\u001b[0m in \u001b[0;36m<cell line: 2>\u001b[0;34m()\u001b[0m\n\u001b[1;32m      <a href='vscode-notebook-cell://ssh-remote%2Bidiap/idiap/project/evolang/meerkats_imen/evolang_meerkats_calls_classification/scripts/Notebooks/plot_fft_conv1.ipynb#W2sdnNjb2RlLXJlbW90ZQ%3D%3D?line=0'>1</a>\u001b[0m model \u001b[39m=\u001b[39m Lit(PalazCNN(n_output\u001b[39m=\u001b[39m\u001b[39m7\u001b[39m),learning_rate\u001b[39m=\u001b[39m\u001b[39m1e-3\u001b[39m,num_classes\u001b[39m=\u001b[39m\u001b[39m7\u001b[39m)\n\u001b[0;32m----> <a href='vscode-notebook-cell://ssh-remote%2Bidiap/idiap/project/evolang/meerkats_imen/evolang_meerkats_calls_classification/scripts/Notebooks/plot_fft_conv1.ipynb#W2sdnNjb2RlLXJlbW90ZQ%3D%3D?line=1'>2</a>\u001b[0m checkpoint \u001b[39m=\u001b[39m torch\u001b[39m.\u001b[39mload(path_\u001b[39m+\u001b[39m\u001b[39m\"\u001b[39m\u001b[39mmeerkats-subseg/r90zx4pc/checkpoints/epoch=99-step=8400.ckpt\u001b[39m\u001b[39m\"\u001b[39m,map_location\u001b[39m=\u001b[39mtorch\u001b[39m.\u001b[39mdevice(\u001b[39m'\u001b[39m\u001b[39mcpu\u001b[39m\u001b[39m'\u001b[39m)) \u001b[39m# path of kernel of 120 samples\u001b[39;00m\n\u001b[1;32m      <a href='vscode-notebook-cell://ssh-remote%2Bidiap/idiap/project/evolang/meerkats_imen/evolang_meerkats_calls_classification/scripts/Notebooks/plot_fft_conv1.ipynb#W2sdnNjb2RlLXJlbW90ZQ%3D%3D?line=2'>3</a>\u001b[0m model\u001b[39m.\u001b[39mload_state_dict(checkpoint[\u001b[39m\"\u001b[39m\u001b[39mstate_dict\u001b[39m\u001b[39m\"\u001b[39m]) \n\u001b[1;32m      <a href='vscode-notebook-cell://ssh-remote%2Bidiap/idiap/project/evolang/meerkats_imen/evolang_meerkats_calls_classification/scripts/Notebooks/plot_fft_conv1.ipynb#W2sdnNjb2RlLXJlbW90ZQ%3D%3D?line=4'>5</a>\u001b[0m kernel\u001b[39m=\u001b[39mmodel\u001b[39m.\u001b[39mmodel\u001b[39m.\u001b[39mconv1\u001b[39m.\u001b[39mweight\u001b[39m.\u001b[39mdetach() \u001b[39m# take the weights after first layer\u001b[39;00m\n",
      "\u001b[0;31mNameError\u001b[0m: name 'path_' is not defined"
     ]
    }
   ],
   "source": [
    "model = Lit(PalazCNN(n_output=9),learning_rate=1e-3,num_classes=9)\n",
    "checkpoint = torch.load(path_+\"meerkats-subseg/r90zx4pc/checkpoints/epoch=99-step=8400.ckpt\",map_location=torch.device('cpu')) # path of kernel of 120 samples\n",
    "model.load_state_dict(checkpoint[\"state_dict\"]) \n",
    "    \n",
    "kernel=model.model.conv1.weight.detach() # take the weights after first layer\n",
    "kernel=kernel.squeeze()\n"
   ]
  },
  {
   "cell_type": "code",
   "execution_count": null,
   "metadata": {},
   "outputs": [],
   "source": [
    "xf = np.fft.fftfreq(1024, 1 / 16000) # the frequencies\n",
    "xf=xf[:len(xf) // 2]\n",
    "sumfft=np.fft.fft(kernel[0].numpy(),1024)\n",
    "sumfft=abs(sumfft[:len(sumfft) // 2]) # fft of first filter\n",
    "for i in range(1,40):\n",
    "    fftnp=np.fft.fft(kernel[i].numpy(),1024)\n",
    "    fftnp = fftnp[:len(fftnp) // 2]\n",
    "    sumfft= sumfft + abs(fftnp)\n",
    "    plt.plot(xf,abs(sumfft)/(np.max(sumfft)))\n",
    "    plt.xlim((0,8000))\n",
    "    plt.xlabel(\"Hz\")\n",
    "    plt.ylabel(\"amplitude\")\n",
    "    #plt.show()\n",
    "    plt.savefig(\"120kernel_size.png\")"
   ]
  }
 ],
 "metadata": {
  "kernelspec": {
   "display_name": "meerkats",
   "language": "python",
   "name": "python3"
  },
  "language_info": {
   "codemirror_mode": {
    "name": "ipython",
    "version": 3
   },
   "file_extension": ".py",
   "mimetype": "text/x-python",
   "name": "python",
   "nbconvert_exporter": "python",
   "pygments_lexer": "ipython3",
   "version": "3.9.13"
  },
  "orig_nbformat": 4
 },
 "nbformat": 4,
 "nbformat_minor": 2
}
