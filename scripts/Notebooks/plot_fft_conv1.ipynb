{
 "cells": [
  {
   "cell_type": "code",
   "execution_count": 1,
   "metadata": {},
   "outputs": [],
   "source": [
    "import torch\n",
    "import numpy as np\n",
    "import os\n",
    "import sys\n",
    "from src.models.Palazcnn import PalazCNN\n",
    "from src.models.lit import Lit\n",
    "import matplotlib.pylab as plt"
   ]
  },
  {
   "attachments": {},
   "cell_type": "markdown",
   "metadata": {},
   "source": [
    "Load the checkpoint"
   ]
  },
  {
   "cell_type": "code",
   "execution_count": null,
   "metadata": {},
   "outputs": [],
   "source": [
    "model = Lit(PalazCNN(n_output=7),learning_rate=1e-3,num_classes=7)\n",
    "checkpoint = torch.load(path_+\"meerkats-subseg/r90zx4pc/checkpoints/epoch=99-step=8400.ckpt\",map_location=torch.device('cpu')) # path of kernel of 120 samples\n",
    "model.load_state_dict(checkpoint[\"state_dict\"]) \n",
    "    \n",
    "kernel=model.model.conv1.weight.detach() # take the weights after first layer\n",
    "kernel=kernel.squeeze()\n"
   ]
  },
  {
   "cell_type": "code",
   "execution_count": null,
   "metadata": {},
   "outputs": [],
   "source": [
    "xf = np.fft.fftfreq(1024, 1 / 16000) # the frequencies\n",
    "xf=xf[:len(xf) // 2]\n",
    "sumfft=np.fft.fft(kernel[0].numpy(),1024)\n",
    "sumfft=abs(sumfft[:len(sumfft) // 2]) # fft of first filter\n",
    "for i in range(1,40):\n",
    "    fftnp=np.fft.fft(kernel[i].numpy(),1024)\n",
    "    fftnp = fftnp[:len(fftnp) // 2]\n",
    "    sumfft= sumfft + abs(fftnp)\n",
    "    plt.plot(xf,abs(sumfft)/(np.max(sumfft)))\n",
    "    plt.xlim((0,8000))\n",
    "    plt.xlabel(\"Hz\")\n",
    "    plt.ylabel(\"amplitude\")\n",
    "    #plt.show()\n",
    "    plt.savefig(\"120kernel_size.png\")"
   ]
  }
 ],
 "metadata": {
  "kernelspec": {
   "display_name": "meerkats",
   "language": "python",
   "name": "python3"
  },
  "language_info": {
   "codemirror_mode": {
    "name": "ipython",
    "version": 3
   },
   "file_extension": ".py",
   "mimetype": "text/x-python",
   "name": "python",
   "nbconvert_exporter": "python",
   "pygments_lexer": "ipython3",
   "version": "3.9.13"
  },
  "orig_nbformat": 4
 },
 "nbformat": 4,
 "nbformat_minor": 2
}
