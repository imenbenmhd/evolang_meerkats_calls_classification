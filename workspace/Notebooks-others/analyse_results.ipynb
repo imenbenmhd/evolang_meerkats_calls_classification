{
 "cells": [
  {
   "cell_type": "code",
   "execution_count": 1,
   "metadata": {},
   "outputs": [],
   "source": [
    "import pandas as pd\n",
    "import os\n",
    "import numpy as np"
   ]
  },
  {
   "cell_type": "code",
   "execution_count": 2,
   "metadata": {},
   "outputs": [],
   "source": [
    "MAIN_DIR= \"/idiap/project/evolang/meerkats_imen/evolang_meerkats_calls_classification/workspace/\"\n",
    "result_folder=\"results/\"\n",
    "name_result_rms= \"Maras-modelRMS-withoutfixingwieghts.pkl\"\n",
    "name_result_adam= \"Maras-model-withoutfixingwieghts.pkl\"\n",
    "\n",
    "\n"
   ]
  },
  {
   "cell_type": "code",
   "execution_count": null,
   "metadata": {},
   "outputs": [],
   "source": [
    "result_adam=pd.read_pickle(os.path.join(MAIN_DIR +result_folder + \"marta-data/\" ,name_result_rms))\n",
    "result_rms=pd.read_pickle(os.path.join(MAIN_DIR+result_folder + \"marta-data/\",name_result_adam))\n",
    "\n"
   ]
  },
  {
   "cell_type": "code",
   "execution_count": null,
   "metadata": {},
   "outputs": [],
   "source": [
    "means_adam={}\n",
    "means_rms={}\n",
    "max=0"
   ]
  },
  {
   "cell_type": "code",
   "execution_count": null,
   "metadata": {},
   "outputs": [],
   "source": [
    "for k,dict in result_adam.items():\n",
    "    for m,value in dict.items():\n",
    "        print(k,m)\n",
    "        mean=np.mean(value)\n",
    "        \n",
    "        if k in means_adam.keys():\n",
    "            means_adam[k].append(mean)\n",
    "        else:\n",
    "            means_adam[k]=[mean]"
   ]
  },
  {
   "cell_type": "code",
   "execution_count": null,
   "metadata": {},
   "outputs": [],
   "source": [
    "for k,dict in x.items():\n",
    "    for m,value in dict.items():\n",
    "        print(k,m)\n",
    "        mean=np.mean(value)\n",
    "\n",
    "        if k in means_x.keys():\n",
    "            print(mean)\n",
    "            means_x[k].append(mean)\n",
    "        else:\n",
    "            means_x[k]=[mean]"
   ]
  },
  {
   "attachments": {},
   "cell_type": "markdown",
   "metadata": {},
   "source": [
    "## Look for best lr and optimizer for the three datasets"
   ]
  },
  {
   "cell_type": "code",
   "execution_count": 15,
   "metadata": {},
   "outputs": [],
   "source": [
    "adam_marta=pd.read_pickle(os.path.join(MAIN_DIR + result_folder +\"marta-data\",\"adam-search-best-lr-marta.pkl\"))\n",
    "rms_marta=pd.read_pickle(os.path.join(MAIN_DIR + result_folder +\"marta-data\",\"rms-search-best-lr-marta.pkl\"))"
   ]
  },
  {
   "cell_type": "code",
   "execution_count": 18,
   "metadata": {},
   "outputs": [
    {
     "name": "stdout",
     "output_type": "stream",
     "text": [
      "0.0001\n",
      "0.292521470785141\n",
      "0.0002\n",
      "0.40898370146751406\n",
      "0.0003\n",
      "0.4711185395717621\n",
      "0.0004\n",
      "0.5205194890499115\n",
      "0.0006\n",
      "0.6595470786094666\n",
      "0.0008\n",
      "0.6864376664161682\n",
      "0.001\n",
      "0.7130747199058532\n",
      "0.0015\n",
      "0.7798802495002747\n",
      "0.003\n",
      "0.7739177465438842\n",
      "0.005\n",
      "0.7535285115242004\n"
     ]
    }
   ],
   "source": [
    "for k,value in adam_marta.items():\n",
    "    print(k)\n",
    "    mean=np.mean(value)\n",
    "    print(mean)"
   ]
  },
  {
   "cell_type": "markdown",
   "metadata": {},
   "source": []
  }
 ],
 "metadata": {
  "kernelspec": {
   "display_name": "base",
   "language": "python",
   "name": "python3"
  },
  "language_info": {
   "codemirror_mode": {
    "name": "ipython",
    "version": 3
   },
   "file_extension": ".py",
   "mimetype": "text/x-python",
   "name": "python",
   "nbconvert_exporter": "python",
   "pygments_lexer": "ipython3",
   "version": "3.10.4"
  },
  "orig_nbformat": 4
 },
 "nbformat": 4,
 "nbformat_minor": 2
}
