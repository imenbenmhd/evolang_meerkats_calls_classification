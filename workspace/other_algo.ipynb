{
 "cells": [
  {
   "cell_type": "code",
   "execution_count": 1,
   "metadata": {},
   "outputs": [],
   "source": [
    "from scipy.io import arff\n",
    "import pandas as pd\n",
    "import os\n",
    "from sklearn import svm\n",
    "from sklearn.model_selection import train_test_split"
   ]
  },
  {
   "cell_type": "code",
   "execution_count": null,
   "metadata": {},
   "outputs": [],
   "source": []
  },
  {
   "cell_type": "code",
   "execution_count": 9,
   "metadata": {},
   "outputs": [],
   "source": [
    "\n",
    "# Getting all the arff files from the current directory\n",
    "\n",
    "# Function for converting arff list to csv list\n",
    "def toCsv(text):\n",
    "    data = False\n",
    "    header = \"\"\n",
    "    new_content = []\n",
    "    for line in text:\n",
    "        if not data:\n",
    "            if \"@ATTRIBUTE\" in line or \"@attribute\" in line:\n",
    "                attributes = line.split()\n",
    "                if(\"@attribute\" in line):\n",
    "                    attri_case = \"@attribute\"\n",
    "                else:\n",
    "                    attri_case = \"@ATTRIBUTE\"\n",
    "                column_name = attributes[attributes.index(attri_case) + 1]\n",
    "                header = header + column_name + \",\"\n",
    "            elif \"@DATA\" in line or \"@data\" in line:\n",
    "                data = True\n",
    "                header = header[:-1]\n",
    "                header += '\\n'\n",
    "                new_content.append(header)\n",
    "        else:\n",
    "            new_content.append(line)\n",
    "    return new_content\n",
    "\n",
    "\n",
    "# Main loop for reading and writing files\n",
    "file='/idiap/temp/tpurohit/MSP-Improv/Baseline_HandcraftedFeat/Imen_animals_handcrafted/Imen_HandcraftedFeatures/ComPar2016.train.arff'\n",
    "with open(file, \"r\") as inFile:\n",
    "    content = inFile.readlines()\n",
    "    name, ext = os.path.splitext(inFile.name)\n",
    "    new = toCsv(content)\n",
    "    with open(\"/idiap/temp/ibmahmoud/evolang/Compare2016\"+ \".csv\", \"w\") as outFile:\n",
    "        outFile.writelines(new)"
   ]
  },
  {
   "cell_type": "code",
   "execution_count": 2,
   "metadata": {},
   "outputs": [],
   "source": [
    "df=pd.read_csv(\"/idiap/temp/ibmahmoud/evolang/Compare2016.csv\")\n",
    "target=df['class']\n",
    "features=df.drop('class',axis=1)\n",
    "features=features.drop('name',axis=1)\n",
    "\n",
    "train_size=int(len(df)*0.8)\n",
    "test_size=len(df) - train_size\n"
   ]
  },
  {
   "cell_type": "code",
   "execution_count": 3,
   "metadata": {},
   "outputs": [],
   "source": [
    "X_tr, X_te, y_tr, y_te = train_test_split(features.values, target.values, test_size=0.20, random_state=42)"
   ]
  },
  {
   "cell_type": "code",
   "execution_count": 4,
   "metadata": {},
   "outputs": [],
   "source": [
    "model =svm.SVC(kernel='linear')\n",
    "model.fit(X_tr,y_tr)"
   ]
  },
  {
   "cell_type": "code",
   "execution_count": 59,
   "metadata": {},
   "outputs": [],
   "source": [
    "predict_poly=model.predict(X_te)\n"
   ]
  },
  {
   "cell_type": "code",
   "execution_count": 60,
   "metadata": {},
   "outputs": [],
   "source": [
    "from sklearn.metrics import accuracy_score\n",
    "accuracy_poly=accuracy_score(y_te,predict_poly)"
   ]
  },
  {
   "cell_type": "code",
   "execution_count": 61,
   "metadata": {},
   "outputs": [
    {
     "name": "stdout",
     "output_type": "stream",
     "text": [
      "0.36910994764397903\n"
     ]
    }
   ],
   "source": [
    "print(accuracy_poly)"
   ]
  },
  {
   "cell_type": "code",
   "execution_count": 63,
   "metadata": {},
   "outputs": [
    {
     "name": "stdout",
     "output_type": "stream",
     "text": [
      "[5 0 8 7 0 6 0 0 1 7 8 3 4 0 0 7 6 1 0 6 0 1 5 3 0 1 0 7 7 8 1 1 7 7 0 7 3\n",
      " 3 0 7 0 0 0 0 5 4 0 7 0 7 7 8 7 0 0 8 7 0 1 7 4 7 1 8 0 5 3 7 1 7 7 8 8 0\n",
      " 4 5 7 1 0 1 5 1 8 7 0 6 0 7 7 0 8 0 7 5 0 0 3 3 7 1 0 7 7 0 2 0 0 7 7 1 0\n",
      " 0 7 7 8 1 0 0 0 4 1 6 8 7 6 1 3 6 1 1 1 6 0 5 0 8 8 0 0 0 7 7 2 0 8 5 4 3\n",
      " 3 0 5 4 7 1 0 0 0 0 0 7 1 0 7 1 0 8 5 8 7 7 1 0 0 4 6 0 7 0 7 1 0 1 7 0 1\n",
      " 5 0 7 0 7 5 8 0 1 3 3 0 1 0 0 0 7 0 7 1 5 5 0 1 0 6 1 4 7 7 0 0 0 0 0 7 0\n",
      " 7 8 0 0 7 0 0 1 0 3 5 0 0 5 7 0 0 0 1 1 8 7 1 0 3 8 3 0 7 0 5 7 7 5 4 0 8\n",
      " 6 7 8 3 1 7 0 6 3 1 5 0 0 7 7 8 7 0 3 0 0 0 8 0 6 7 7 0 0 7 5 0 2 7 0 8 0\n",
      " 8 6 6 6 7 7 7 0 0 0 3 5 5 1 8 0 0 5 7 5 0 5 0 0 3 0 0 6 0 7 1 0 7 3 0 7 7\n",
      " 8 4 0 0 1 8 3 0 5 0 7 1 1 3 5 1 0 1 5 1 0 1 0 0 5 7 0 0 6 7 5 0 7 1 0 0 7\n",
      " 7 1 8 0 6 0 0 5 8 1 0 1]\n",
      "[0 0 0 0 0 0 0 0 0 0 0 0 0 0 0 0 0 0 0 0 0 0 0 0 0 0 0 0 0 0 0 0 0 0 0 0 0\n",
      " 0 0 0 0 0 0 0 5 0 0 0 0 0 0 0 0 0 0 0 0 0 0 0 0 0 0 0 0 0 0 0 0 0 0 0 0 0\n",
      " 0 0 0 0 0 0 0 0 0 0 0 0 0 0 0 0 0 0 0 0 0 0 0 0 0 0 0 0 0 0 0 0 0 0 0 0 0\n",
      " 0 0 0 0 0 0 0 0 0 0 0 0 0 0 0 0 0 0 0 0 0 0 0 0 0 0 0 0 0 0 0 0 0 0 5 0 0\n",
      " 0 0 0 0 0 0 0 0 0 0 0 0 0 0 0 0 0 0 0 0 0 0 0 0 0 0 0 0 0 0 0 0 0 0 0 0 0\n",
      " 5 0 0 0 0 5 0 0 0 0 0 0 0 0 0 0 0 0 0 0 0 0 0 0 0 0 0 0 0 0 0 0 0 0 0 0 0\n",
      " 0 0 0 0 0 0 0 0 0 0 0 0 0 0 0 0 0 0 0 0 0 0 0 0 0 0 0 0 0 0 5 0 0 0 0 5 0\n",
      " 0 0 0 0 0 0 0 0 0 0 0 5 0 0 0 0 0 0 0 0 0 0 0 0 0 0 0 0 0 0 5 0 0 0 0 0 0\n",
      " 0 0 6 0 0 0 0 0 0 0 0 5 0 0 0 0 0 0 0 5 0 0 0 0 0 0 0 0 0 0 0 0 0 0 0 0 0\n",
      " 0 0 0 0 0 0 0 0 5 0 0 0 0 0 0 0 0 0 0 0 0 0 0 0 0 0 0 0 6 0 0 0 0 0 0 0 0\n",
      " 0 0 0 0 0 0 0 0 0 0 0 0]\n"
     ]
    }
   ],
   "source": [
    "print(y_te)\n",
    "print(predict_poly)"
   ]
  },
  {
   "cell_type": "code",
   "execution_count": null,
   "metadata": {},
   "outputs": [],
   "source": []
  }
 ],
 "metadata": {
  "interpreter": {
   "hash": "3ddf5b034f744be073f463f7cfff2d84067c728918fe5b15e29d7a45fc1222ac"
  },
  "kernelspec": {
   "display_name": "Python 3.9.13 64-bit ('pytorch_vad')",
   "language": "python",
   "name": "python3"
  },
  "language_info": {
   "codemirror_mode": {
    "name": "ipython",
    "version": 3
   },
   "file_extension": ".py",
   "mimetype": "text/x-python",
   "name": "python",
   "nbconvert_exporter": "python",
   "pygments_lexer": "ipython3",
   "version": "3.10.4"
  },
  "orig_nbformat": 4
 },
 "nbformat": 4,
 "nbformat_minor": 2
}
